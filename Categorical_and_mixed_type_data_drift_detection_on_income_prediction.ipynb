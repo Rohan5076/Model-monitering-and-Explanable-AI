{
  "nbformat": 4,
  "nbformat_minor": 0,
  "metadata": {
    "colab": {
      "provenance": [],
      "authorship_tag": "ABX9TyPkLSdiru3krGh33RuWrgrk",
      "include_colab_link": true
    },
    "kernelspec": {
      "name": "python3",
      "display_name": "Python 3"
    },
    "language_info": {
      "name": "python"
    }
  },
  "cells": [
    {
      "cell_type": "markdown",
      "metadata": {
        "id": "view-in-github",
        "colab_type": "text"
      },
      "source": [
        "<a href=\"https://colab.research.google.com/github/Rohan5076/Model-monitering-and-Explanable-AI/blob/main/Categorical_and_mixed_type_data_drift_detection_on_income_prediction.ipynb\" target=\"_parent\"><img src=\"https://colab.research.google.com/assets/colab-badge.svg\" alt=\"Open In Colab\"/></a>"
      ]
    },
    {
      "cell_type": "markdown",
      "source": [
        "## **Categorical and mixed type data drift detection on income prediction**"
      ],
      "metadata": {
        "id": "OeEgnuWQdn0J"
      }
    },
    {
      "cell_type": "markdown",
      "source": [
        "# Method\n",
        "The drift detector applies feature-wise two-sample Kolmogorov-Smirnov (K-S) tests for the continuous numerical features and Chi-Squared tests for the categorical features. For multivariate data, the obtained p-values for each feature are aggregated either via the Bonferroni or the False Discovery Rate (FDR) correction. The Bonferroni correction is more conservative and controls for the probability of at least one false positive. The FDR correction on the other hand allows for an expected fraction of false positives to occur."
      ],
      "metadata": {
        "id": "ehcjVFS9dKbb"
      }
    },
    {
      "cell_type": "markdown",
      "source": [
        "# **Dataset**\n",
        "The instances contain a person’s characteristics like age, marital status or education while the label represents whether the person makes more or less than $50k per year. The dataset consists of a mixture of numerical and categorical features. It is fetched using the Alibi library, which can be installed with pip:"
      ],
      "metadata": {
        "id": "ZfxslW6AdDkB"
      }
    },
    {
      "cell_type": "code",
      "execution_count": 1,
      "metadata": {
        "colab": {
          "base_uri": "https://localhost:8080/"
        },
        "id": "iLdmh9DaXkSm",
        "outputId": "d9596608-cac6-4db5-d7e3-effccca0cc15"
      },
      "outputs": [
        {
          "output_type": "stream",
          "name": "stdout",
          "text": [
            "Looking in indexes: https://pypi.org/simple, https://us-python.pkg.dev/colab-wheels/public/simple/\n",
            "Collecting alibi\n",
            "  Downloading alibi-0.8.0-py3-none-any.whl (472 kB)\n",
            "\u001b[K     |████████████████████████████████| 472 kB 4.8 MB/s \n",
            "\u001b[?25hRequirement already satisfied: spacy[lookups]<4.0.0,>=2.0.0 in /usr/local/lib/python3.8/dist-packages (from alibi) (3.4.3)\n",
            "Requirement already satisfied: requests<3.0.0,>=2.21.0 in /usr/local/lib/python3.8/dist-packages (from alibi) (2.23.0)\n",
            "Requirement already satisfied: Pillow<10.0,>=5.4.1 in /usr/local/lib/python3.8/dist-packages (from alibi) (7.1.2)\n",
            "Requirement already satisfied: blis<0.8.0 in /usr/local/lib/python3.8/dist-packages (from alibi) (0.7.9)\n",
            "Requirement already satisfied: dill<0.4.0,>=0.3.0 in /usr/local/lib/python3.8/dist-packages (from alibi) (0.3.6)\n",
            "Requirement already satisfied: attrs<23.0.0,>=19.2.0 in /usr/local/lib/python3.8/dist-packages (from alibi) (22.1.0)\n",
            "Collecting transformers<5.0.0,>=4.7.0\n",
            "  Downloading transformers-4.25.1-py3-none-any.whl (5.8 MB)\n",
            "\u001b[K     |████████████████████████████████| 5.8 MB 31.3 MB/s \n",
            "\u001b[?25hRequirement already satisfied: tqdm<5.0.0,>=4.28.1 in /usr/local/lib/python3.8/dist-packages (from alibi) (4.64.1)\n",
            "Requirement already satisfied: scipy<2.0.0,>=1.1.0 in /usr/local/lib/python3.8/dist-packages (from alibi) (1.7.3)\n",
            "Requirement already satisfied: matplotlib<4.0.0,>=3.0.0 in /usr/local/lib/python3.8/dist-packages (from alibi) (3.2.2)\n",
            "Requirement already satisfied: scikit-image<0.20,>=0.17.2 in /usr/local/lib/python3.8/dist-packages (from alibi) (0.18.3)\n",
            "Requirement already satisfied: pandas<2.0.0,>=0.23.3 in /usr/local/lib/python3.8/dist-packages (from alibi) (1.3.5)\n",
            "Requirement already satisfied: numpy<2.0.0,>=1.16.2 in /usr/local/lib/python3.8/dist-packages (from alibi) (1.21.6)\n",
            "Requirement already satisfied: typing-extensions>=3.7.4.3 in /usr/local/lib/python3.8/dist-packages (from alibi) (4.1.1)\n",
            "Requirement already satisfied: scikit-learn<2.0.0,>=1.0.0 in /usr/local/lib/python3.8/dist-packages (from alibi) (1.0.2)\n",
            "Requirement already satisfied: pyparsing!=2.0.4,!=2.1.2,!=2.1.6,>=2.0.1 in /usr/local/lib/python3.8/dist-packages (from matplotlib<4.0.0,>=3.0.0->alibi) (3.0.9)\n",
            "Requirement already satisfied: kiwisolver>=1.0.1 in /usr/local/lib/python3.8/dist-packages (from matplotlib<4.0.0,>=3.0.0->alibi) (1.4.4)\n",
            "Requirement already satisfied: cycler>=0.10 in /usr/local/lib/python3.8/dist-packages (from matplotlib<4.0.0,>=3.0.0->alibi) (0.11.0)\n",
            "Requirement already satisfied: python-dateutil>=2.1 in /usr/local/lib/python3.8/dist-packages (from matplotlib<4.0.0,>=3.0.0->alibi) (2.8.2)\n",
            "Requirement already satisfied: pytz>=2017.3 in /usr/local/lib/python3.8/dist-packages (from pandas<2.0.0,>=0.23.3->alibi) (2022.6)\n",
            "Requirement already satisfied: six>=1.5 in /usr/local/lib/python3.8/dist-packages (from python-dateutil>=2.1->matplotlib<4.0.0,>=3.0.0->alibi) (1.15.0)\n",
            "Requirement already satisfied: idna<3,>=2.5 in /usr/local/lib/python3.8/dist-packages (from requests<3.0.0,>=2.21.0->alibi) (2.10)\n",
            "Requirement already satisfied: certifi>=2017.4.17 in /usr/local/lib/python3.8/dist-packages (from requests<3.0.0,>=2.21.0->alibi) (2022.9.24)\n",
            "Requirement already satisfied: chardet<4,>=3.0.2 in /usr/local/lib/python3.8/dist-packages (from requests<3.0.0,>=2.21.0->alibi) (3.0.4)\n",
            "Requirement already satisfied: urllib3!=1.25.0,!=1.25.1,<1.26,>=1.21.1 in /usr/local/lib/python3.8/dist-packages (from requests<3.0.0,>=2.21.0->alibi) (1.24.3)\n",
            "Requirement already satisfied: PyWavelets>=1.1.1 in /usr/local/lib/python3.8/dist-packages (from scikit-image<0.20,>=0.17.2->alibi) (1.3.0)\n",
            "Requirement already satisfied: imageio>=2.3.0 in /usr/local/lib/python3.8/dist-packages (from scikit-image<0.20,>=0.17.2->alibi) (2.9.0)\n",
            "Requirement already satisfied: tifffile>=2019.7.26 in /usr/local/lib/python3.8/dist-packages (from scikit-image<0.20,>=0.17.2->alibi) (2021.11.2)\n",
            "Requirement already satisfied: networkx>=2.0 in /usr/local/lib/python3.8/dist-packages (from scikit-image<0.20,>=0.17.2->alibi) (2.6.3)\n",
            "Requirement already satisfied: joblib>=0.11 in /usr/local/lib/python3.8/dist-packages (from scikit-learn<2.0.0,>=1.0.0->alibi) (1.2.0)\n",
            "Requirement already satisfied: threadpoolctl>=2.0.0 in /usr/local/lib/python3.8/dist-packages (from scikit-learn<2.0.0,>=1.0.0->alibi) (3.1.0)\n",
            "Requirement already satisfied: spacy-loggers<2.0.0,>=1.0.0 in /usr/local/lib/python3.8/dist-packages (from spacy[lookups]<4.0.0,>=2.0.0->alibi) (1.0.3)\n",
            "Requirement already satisfied: setuptools in /usr/local/lib/python3.8/dist-packages (from spacy[lookups]<4.0.0,>=2.0.0->alibi) (57.4.0)\n",
            "Requirement already satisfied: typer<0.8.0,>=0.3.0 in /usr/local/lib/python3.8/dist-packages (from spacy[lookups]<4.0.0,>=2.0.0->alibi) (0.7.0)\n",
            "Requirement already satisfied: srsly<3.0.0,>=2.4.3 in /usr/local/lib/python3.8/dist-packages (from spacy[lookups]<4.0.0,>=2.0.0->alibi) (2.4.5)\n",
            "Requirement already satisfied: catalogue<2.1.0,>=2.0.6 in /usr/local/lib/python3.8/dist-packages (from spacy[lookups]<4.0.0,>=2.0.0->alibi) (2.0.8)\n",
            "Requirement already satisfied: packaging>=20.0 in /usr/local/lib/python3.8/dist-packages (from spacy[lookups]<4.0.0,>=2.0.0->alibi) (21.3)\n",
            "Requirement already satisfied: pydantic!=1.8,!=1.8.1,<1.11.0,>=1.7.4 in /usr/local/lib/python3.8/dist-packages (from spacy[lookups]<4.0.0,>=2.0.0->alibi) (1.10.2)\n",
            "Requirement already satisfied: pathy>=0.3.5 in /usr/local/lib/python3.8/dist-packages (from spacy[lookups]<4.0.0,>=2.0.0->alibi) (0.9.0)\n",
            "Requirement already satisfied: langcodes<4.0.0,>=3.2.0 in /usr/local/lib/python3.8/dist-packages (from spacy[lookups]<4.0.0,>=2.0.0->alibi) (3.3.0)\n",
            "Requirement already satisfied: murmurhash<1.1.0,>=0.28.0 in /usr/local/lib/python3.8/dist-packages (from spacy[lookups]<4.0.0,>=2.0.0->alibi) (1.0.9)\n",
            "Requirement already satisfied: spacy-legacy<3.1.0,>=3.0.10 in /usr/local/lib/python3.8/dist-packages (from spacy[lookups]<4.0.0,>=2.0.0->alibi) (3.0.10)\n",
            "Requirement already satisfied: jinja2 in /usr/local/lib/python3.8/dist-packages (from spacy[lookups]<4.0.0,>=2.0.0->alibi) (2.11.3)\n",
            "Requirement already satisfied: cymem<2.1.0,>=2.0.2 in /usr/local/lib/python3.8/dist-packages (from spacy[lookups]<4.0.0,>=2.0.0->alibi) (2.0.7)\n",
            "Requirement already satisfied: wasabi<1.1.0,>=0.9.1 in /usr/local/lib/python3.8/dist-packages (from spacy[lookups]<4.0.0,>=2.0.0->alibi) (0.10.1)\n",
            "Requirement already satisfied: preshed<3.1.0,>=3.0.2 in /usr/local/lib/python3.8/dist-packages (from spacy[lookups]<4.0.0,>=2.0.0->alibi) (3.0.8)\n",
            "Requirement already satisfied: thinc<8.2.0,>=8.1.0 in /usr/local/lib/python3.8/dist-packages (from spacy[lookups]<4.0.0,>=2.0.0->alibi) (8.1.5)\n",
            "Collecting spacy-lookups-data<1.1.0,>=1.0.3\n",
            "  Downloading spacy_lookups_data-1.0.3-py2.py3-none-any.whl (98.5 MB)\n",
            "\u001b[K     |████████████████████████████████| 98.5 MB 107 kB/s \n",
            "\u001b[?25hRequirement already satisfied: smart-open<6.0.0,>=5.2.1 in /usr/local/lib/python3.8/dist-packages (from pathy>=0.3.5->spacy[lookups]<4.0.0,>=2.0.0->alibi) (5.2.1)\n",
            "Requirement already satisfied: confection<1.0.0,>=0.0.1 in /usr/local/lib/python3.8/dist-packages (from thinc<8.2.0,>=8.1.0->spacy[lookups]<4.0.0,>=2.0.0->alibi) (0.0.3)\n",
            "Collecting tokenizers!=0.11.3,<0.14,>=0.11.1\n",
            "  Downloading tokenizers-0.13.2-cp38-cp38-manylinux_2_17_x86_64.manylinux2014_x86_64.whl (7.6 MB)\n",
            "\u001b[K     |████████████████████████████████| 7.6 MB 45.8 MB/s \n",
            "\u001b[?25hRequirement already satisfied: regex!=2019.12.17 in /usr/local/lib/python3.8/dist-packages (from transformers<5.0.0,>=4.7.0->alibi) (2022.6.2)\n",
            "Requirement already satisfied: filelock in /usr/local/lib/python3.8/dist-packages (from transformers<5.0.0,>=4.7.0->alibi) (3.8.0)\n",
            "Collecting huggingface-hub<1.0,>=0.10.0\n",
            "  Downloading huggingface_hub-0.11.1-py3-none-any.whl (182 kB)\n",
            "\u001b[K     |████████████████████████████████| 182 kB 58.5 MB/s \n",
            "\u001b[?25hRequirement already satisfied: pyyaml>=5.1 in /usr/local/lib/python3.8/dist-packages (from transformers<5.0.0,>=4.7.0->alibi) (6.0)\n",
            "Requirement already satisfied: click<9.0.0,>=7.1.1 in /usr/local/lib/python3.8/dist-packages (from typer<0.8.0,>=0.3.0->spacy[lookups]<4.0.0,>=2.0.0->alibi) (7.1.2)\n",
            "Requirement already satisfied: MarkupSafe>=0.23 in /usr/local/lib/python3.8/dist-packages (from jinja2->spacy[lookups]<4.0.0,>=2.0.0->alibi) (2.0.1)\n",
            "Installing collected packages: tokenizers, spacy-lookups-data, huggingface-hub, transformers, alibi\n",
            "Successfully installed alibi-0.8.0 huggingface-hub-0.11.1 spacy-lookups-data-1.0.3 tokenizers-0.13.2 transformers-4.25.1\n"
          ]
        }
      ],
      "source": [
        "!pip install alibi"
      ]
    },
    {
      "cell_type": "code",
      "source": [
        "!pip install alibi_detect"
      ],
      "metadata": {
        "colab": {
          "base_uri": "https://localhost:8080/"
        },
        "id": "z6kQZJEmZzlJ",
        "outputId": "f85fddbe-fcf7-4e88-f00b-a0f230b2137e"
      },
      "execution_count": 9,
      "outputs": [
        {
          "output_type": "stream",
          "name": "stdout",
          "text": [
            "Looking in indexes: https://pypi.org/simple, https://us-python.pkg.dev/colab-wheels/public/simple/\n",
            "Collecting alibi_detect\n",
            "  Downloading alibi_detect-0.10.4-py3-none-any.whl (306 kB)\n",
            "\u001b[K     |████████████████████████████████| 306 kB 4.7 MB/s \n",
            "\u001b[?25hCollecting numba!=0.54.0,<0.56.0,>=0.50.0\n",
            "  Downloading numba-0.55.2-cp38-cp38-manylinux2014_x86_64.manylinux_2_17_x86_64.whl (3.4 MB)\n",
            "\u001b[K     |████████████████████████████████| 3.4 MB 43.1 MB/s \n",
            "\u001b[?25hRequirement already satisfied: scikit-learn<2.0.0,>=0.20.2 in /usr/local/lib/python3.8/dist-packages (from alibi_detect) (1.0.2)\n",
            "Requirement already satisfied: pandas<2.0.0,>=0.23.3 in /usr/local/lib/python3.8/dist-packages (from alibi_detect) (1.3.5)\n",
            "Requirement already satisfied: transformers<5.0.0,>=4.0.0 in /usr/local/lib/python3.8/dist-packages (from alibi_detect) (4.25.1)\n",
            "Requirement already satisfied: pydantic<2.0.0,>=1.8.0 in /usr/local/lib/python3.8/dist-packages (from alibi_detect) (1.10.2)\n",
            "Requirement already satisfied: scipy<2.0.0,>=1.3.0 in /usr/local/lib/python3.8/dist-packages (from alibi_detect) (1.7.3)\n",
            "Requirement already satisfied: dill<0.4.0,>=0.3.0 in /usr/local/lib/python3.8/dist-packages (from alibi_detect) (0.3.6)\n",
            "Requirement already satisfied: requests<3.0.0,>=2.21.0 in /usr/local/lib/python3.8/dist-packages (from alibi_detect) (2.23.0)\n",
            "Requirement already satisfied: scikit-image!=0.17.1,<0.20,>=0.14.2 in /usr/local/lib/python3.8/dist-packages (from alibi_detect) (0.18.3)\n",
            "Requirement already satisfied: opencv-python<5.0.0,>=3.2.0 in /usr/local/lib/python3.8/dist-packages (from alibi_detect) (4.6.0.66)\n",
            "Requirement already satisfied: matplotlib<4.0.0,>=3.0.0 in /usr/local/lib/python3.8/dist-packages (from alibi_detect) (3.2.2)\n",
            "Requirement already satisfied: toml<1.0.0,>=0.10.1 in /usr/local/lib/python3.8/dist-packages (from alibi_detect) (0.10.2)\n",
            "Requirement already satisfied: typing-extensions>=3.7.4.3 in /usr/local/lib/python3.8/dist-packages (from alibi_detect) (4.1.1)\n",
            "Requirement already satisfied: tqdm<5.0.0,>=4.28.1 in /usr/local/lib/python3.8/dist-packages (from alibi_detect) (4.64.1)\n",
            "Requirement already satisfied: catalogue<3.0.0,>=2.0.0 in /usr/local/lib/python3.8/dist-packages (from alibi_detect) (2.0.8)\n",
            "Requirement already satisfied: Pillow<10.0.0,>=5.4.1 in /usr/local/lib/python3.8/dist-packages (from alibi_detect) (7.1.2)\n",
            "Requirement already satisfied: numpy<2.0.0,>=1.16.2 in /usr/local/lib/python3.8/dist-packages (from alibi_detect) (1.21.6)\n",
            "Requirement already satisfied: python-dateutil>=2.1 in /usr/local/lib/python3.8/dist-packages (from matplotlib<4.0.0,>=3.0.0->alibi_detect) (2.8.2)\n",
            "Requirement already satisfied: pyparsing!=2.0.4,!=2.1.2,!=2.1.6,>=2.0.1 in /usr/local/lib/python3.8/dist-packages (from matplotlib<4.0.0,>=3.0.0->alibi_detect) (3.0.9)\n",
            "Requirement already satisfied: kiwisolver>=1.0.1 in /usr/local/lib/python3.8/dist-packages (from matplotlib<4.0.0,>=3.0.0->alibi_detect) (1.4.4)\n",
            "Requirement already satisfied: cycler>=0.10 in /usr/local/lib/python3.8/dist-packages (from matplotlib<4.0.0,>=3.0.0->alibi_detect) (0.11.0)\n",
            "Collecting llvmlite<0.39,>=0.38.0rc1\n",
            "  Downloading llvmlite-0.38.1-cp38-cp38-manylinux_2_17_x86_64.manylinux2014_x86_64.whl (34.5 MB)\n",
            "\u001b[K     |████████████████████████████████| 34.5 MB 1.4 MB/s \n",
            "\u001b[?25hRequirement already satisfied: setuptools in /usr/local/lib/python3.8/dist-packages (from numba!=0.54.0,<0.56.0,>=0.50.0->alibi_detect) (57.4.0)\n",
            "Requirement already satisfied: pytz>=2017.3 in /usr/local/lib/python3.8/dist-packages (from pandas<2.0.0,>=0.23.3->alibi_detect) (2022.6)\n",
            "Requirement already satisfied: six>=1.5 in /usr/local/lib/python3.8/dist-packages (from python-dateutil>=2.1->matplotlib<4.0.0,>=3.0.0->alibi_detect) (1.15.0)\n",
            "Requirement already satisfied: certifi>=2017.4.17 in /usr/local/lib/python3.8/dist-packages (from requests<3.0.0,>=2.21.0->alibi_detect) (2022.9.24)\n",
            "Requirement already satisfied: urllib3!=1.25.0,!=1.25.1,<1.26,>=1.21.1 in /usr/local/lib/python3.8/dist-packages (from requests<3.0.0,>=2.21.0->alibi_detect) (1.24.3)\n",
            "Requirement already satisfied: idna<3,>=2.5 in /usr/local/lib/python3.8/dist-packages (from requests<3.0.0,>=2.21.0->alibi_detect) (2.10)\n",
            "Requirement already satisfied: chardet<4,>=3.0.2 in /usr/local/lib/python3.8/dist-packages (from requests<3.0.0,>=2.21.0->alibi_detect) (3.0.4)\n",
            "Requirement already satisfied: networkx>=2.0 in /usr/local/lib/python3.8/dist-packages (from scikit-image!=0.17.1,<0.20,>=0.14.2->alibi_detect) (2.6.3)\n",
            "Requirement already satisfied: tifffile>=2019.7.26 in /usr/local/lib/python3.8/dist-packages (from scikit-image!=0.17.1,<0.20,>=0.14.2->alibi_detect) (2021.11.2)\n",
            "Requirement already satisfied: imageio>=2.3.0 in /usr/local/lib/python3.8/dist-packages (from scikit-image!=0.17.1,<0.20,>=0.14.2->alibi_detect) (2.9.0)\n",
            "Requirement already satisfied: PyWavelets>=1.1.1 in /usr/local/lib/python3.8/dist-packages (from scikit-image!=0.17.1,<0.20,>=0.14.2->alibi_detect) (1.3.0)\n",
            "Requirement already satisfied: joblib>=0.11 in /usr/local/lib/python3.8/dist-packages (from scikit-learn<2.0.0,>=0.20.2->alibi_detect) (1.2.0)\n",
            "Requirement already satisfied: threadpoolctl>=2.0.0 in /usr/local/lib/python3.8/dist-packages (from scikit-learn<2.0.0,>=0.20.2->alibi_detect) (3.1.0)\n",
            "Requirement already satisfied: pyyaml>=5.1 in /usr/local/lib/python3.8/dist-packages (from transformers<5.0.0,>=4.0.0->alibi_detect) (6.0)\n",
            "Requirement already satisfied: filelock in /usr/local/lib/python3.8/dist-packages (from transformers<5.0.0,>=4.0.0->alibi_detect) (3.8.0)\n",
            "Requirement already satisfied: packaging>=20.0 in /usr/local/lib/python3.8/dist-packages (from transformers<5.0.0,>=4.0.0->alibi_detect) (21.3)\n",
            "Requirement already satisfied: tokenizers!=0.11.3,<0.14,>=0.11.1 in /usr/local/lib/python3.8/dist-packages (from transformers<5.0.0,>=4.0.0->alibi_detect) (0.13.2)\n",
            "Requirement already satisfied: huggingface-hub<1.0,>=0.10.0 in /usr/local/lib/python3.8/dist-packages (from transformers<5.0.0,>=4.0.0->alibi_detect) (0.11.1)\n",
            "Requirement already satisfied: regex!=2019.12.17 in /usr/local/lib/python3.8/dist-packages (from transformers<5.0.0,>=4.0.0->alibi_detect) (2022.6.2)\n",
            "Installing collected packages: llvmlite, numba, alibi-detect\n",
            "  Attempting uninstall: llvmlite\n",
            "    Found existing installation: llvmlite 0.39.1\n",
            "    Uninstalling llvmlite-0.39.1:\n",
            "      Successfully uninstalled llvmlite-0.39.1\n",
            "  Attempting uninstall: numba\n",
            "    Found existing installation: numba 0.56.4\n",
            "    Uninstalling numba-0.56.4:\n",
            "      Successfully uninstalled numba-0.56.4\n",
            "Successfully installed alibi-detect-0.10.4 llvmlite-0.38.1 numba-0.55.2\n"
          ]
        }
      ]
    },
    {
      "cell_type": "code",
      "source": [
        "import alibi\n",
        "import matplotlib.pyplot as plt\n",
        "import numpy as np\n",
        "\n",
        "from alibi_detect.cd import ChiSquareDrift, TabularDrift\n",
        "from alibi_detect.saving import save_detector, load_detector"
      ],
      "metadata": {
        "id": "BlXP1TDKXr1V"
      },
      "execution_count": 10,
      "outputs": []
    },
    {
      "cell_type": "markdown",
      "source": [
        "# Load income prediction dataset\n",
        "The fetch_adult function returns a Bunch object containing the instances, the targets, the feature names and a dictionary with as keys the column indices of the categorical features and as values the possible categories for each categorical variable."
      ],
      "metadata": {
        "id": "XPFkZNUqc9W3"
      }
    },
    {
      "cell_type": "code",
      "source": [
        "adult = alibi.datasets.fetch_adult()\n",
        "X, y = adult.data, adult.target\n",
        "feature_names = adult.feature_names\n",
        "category_map = adult.category_map\n",
        "X.shape, y.shape"
      ],
      "metadata": {
        "colab": {
          "base_uri": "https://localhost:8080/"
        },
        "id": "SRvr7fWvXvOW",
        "outputId": "988e0c8c-5f5a-4d14-8d88-a55b7e98da65"
      },
      "execution_count": 11,
      "outputs": [
        {
          "output_type": "execute_result",
          "data": {
            "text/plain": [
              "((32561, 12), (32561,))"
            ]
          },
          "metadata": {},
          "execution_count": 11
        }
      ]
    },
    {
      "cell_type": "markdown",
      "source": [
        "We split the data in a reference set and 2 test sets on which we test the data drift:"
      ],
      "metadata": {
        "id": "tZTxsNw9c6I7"
      }
    },
    {
      "cell_type": "code",
      "source": [
        "n_ref = 10000\n",
        "n_test = 10000\n",
        "\n",
        "X_ref, X_t0, X_t1 = X[:n_ref], X[n_ref:n_ref + n_test], X[n_ref + n_test:n_ref + 2 * n_test]\n",
        "X_ref.shape, X_t0.shape, X_t1.shape"
      ],
      "metadata": {
        "colab": {
          "base_uri": "https://localhost:8080/"
        },
        "id": "0CO-3G7IaI9k",
        "outputId": "d8cf8a37-03be-4597-c37a-a9c89efe08e1"
      },
      "execution_count": 12,
      "outputs": [
        {
          "output_type": "execute_result",
          "data": {
            "text/plain": [
              "((10000, 12), (10000, 12), (10000, 12))"
            ]
          },
          "metadata": {},
          "execution_count": 12
        }
      ]
    },
    {
      "cell_type": "markdown",
      "source": [
        "# Detect drift\n",
        "We need to provide the drift detector with the columns which contain categorical features so it knows which features require the Chi-Squared and which ones require the K-S univariate test. We can either provide a dict with as keys the column indices and as values the number of possible categories or just set the values to None and let the detector infer the number of categories from the reference data as in the example below:"
      ],
      "metadata": {
        "id": "DOl_8iIBczMP"
      }
    },
    {
      "cell_type": "code",
      "source": [
        "categories_per_feature = {f: None for f in list(category_map.keys())}"
      ],
      "metadata": {
        "id": "cKQObF-BaRpH"
      },
      "execution_count": 13,
      "outputs": []
    },
    {
      "cell_type": "markdown",
      "source": [
        "Initialize the detector:"
      ],
      "metadata": {
        "id": "6Wkd-lV9cv1r"
      }
    },
    {
      "cell_type": "code",
      "source": [
        "cd = TabularDrift(X_ref, p_val=.05, categories_per_feature=categories_per_feature)"
      ],
      "metadata": {
        "id": "sWtCBvkMaVKQ"
      },
      "execution_count": 14,
      "outputs": []
    },
    {
      "cell_type": "markdown",
      "source": [
        "We can also save/load an initialised detector:"
      ],
      "metadata": {
        "id": "ulvBfDW8cuou"
      }
    },
    {
      "cell_type": "code",
      "source": [
        "filepath = 'my_path'  # change to directory where detector is saved\n",
        "save_detector(cd, filepath)\n",
        "cd = load_detector(filepath)"
      ],
      "metadata": {
        "colab": {
          "base_uri": "https://localhost:8080/"
        },
        "id": "lYpqsyQhaYjZ",
        "outputId": "a55b3652-49aa-4e69-d24d-3d4332f629d4"
      },
      "execution_count": 15,
      "outputs": [
        {
          "output_type": "stream",
          "name": "stderr",
          "text": [
            "WARNING:alibi_detect.saving.saving:Directory my_path does not exist and is now created.\n"
          ]
        }
      ]
    },
    {
      "cell_type": "markdown",
      "source": [
        "Now we can check whether the 2 test sets are drifting from the reference data:"
      ],
      "metadata": {
        "id": "SpJoPreTcqya"
      }
    },
    {
      "cell_type": "code",
      "source": [
        "preds = cd.predict(X_t0)\n",
        "labels = ['No!', 'Yes!']\n",
        "print('Drift? {}'.format(labels[preds['data']['is_drift']]))"
      ],
      "metadata": {
        "colab": {
          "base_uri": "https://localhost:8080/"
        },
        "id": "4YPWZBR2acUc",
        "outputId": "bcaf703a-54e1-4b21-9b9c-db1256c0a73a"
      },
      "execution_count": 16,
      "outputs": [
        {
          "output_type": "stream",
          "name": "stdout",
          "text": [
            "Drift? No!\n"
          ]
        }
      ]
    },
    {
      "cell_type": "markdown",
      "source": [
        "Let’s take a closer look at each of the features. The preds dictionary also returns the K-S or Chi-Squared test statistics and p-value for each feature:"
      ],
      "metadata": {
        "id": "2N9w061YclqD"
      }
    },
    {
      "cell_type": "code",
      "source": [
        "for f in range(cd.n_features):\n",
        "    stat = 'Chi2' if f in list(categories_per_feature.keys()) else 'K-S'\n",
        "    fname = feature_names[f]\n",
        "    stat_val, p_val = preds['data']['distance'][f], preds['data']['p_val'][f]\n",
        "    print(f'{fname} -- {stat} {stat_val:.3f} -- p-value {p_val:.3f}')"
      ],
      "metadata": {
        "colab": {
          "base_uri": "https://localhost:8080/"
        },
        "id": "Zb5MhLezahh6",
        "outputId": "5b84743a-3d50-4d6b-e8b0-1a8c40798ff9"
      },
      "execution_count": 17,
      "outputs": [
        {
          "output_type": "stream",
          "name": "stdout",
          "text": [
            "Age -- K-S 0.012 -- p-value 0.508\n",
            "Workclass -- Chi2 8.487 -- p-value 0.387\n",
            "Education -- Chi2 4.753 -- p-value 0.576\n",
            "Marital Status -- Chi2 3.160 -- p-value 0.368\n",
            "Occupation -- Chi2 8.194 -- p-value 0.415\n",
            "Relationship -- Chi2 0.485 -- p-value 0.993\n",
            "Race -- Chi2 0.587 -- p-value 0.965\n",
            "Sex -- Chi2 0.217 -- p-value 0.641\n",
            "Capital Gain -- K-S 0.002 -- p-value 1.000\n",
            "Capital Loss -- K-S 0.002 -- p-value 1.000\n",
            "Hours per week -- K-S 0.012 -- p-value 0.508\n",
            "Country -- Chi2 9.991 -- p-value 0.441\n"
          ]
        }
      ]
    },
    {
      "cell_type": "markdown",
      "source": [
        "None of the feature-level p-values are below the threshold:"
      ],
      "metadata": {
        "id": "9uYj5bz5cWg9"
      }
    },
    {
      "cell_type": "code",
      "source": [
        "preds['data']['threshold']"
      ],
      "metadata": {
        "colab": {
          "base_uri": "https://localhost:8080/"
        },
        "id": "q2D9JU7abB_m",
        "outputId": "7b13fdca-eb36-4214-a27b-e06dba2426f3"
      },
      "execution_count": 18,
      "outputs": [
        {
          "output_type": "execute_result",
          "data": {
            "text/plain": [
              "0.004166666666666667"
            ]
          },
          "metadata": {},
          "execution_count": 18
        }
      ]
    },
    {
      "cell_type": "markdown",
      "source": [
        "If you are interested in individual feature-wise drift, this is also possible:"
      ],
      "metadata": {
        "id": "2LhaFCM-cVyO"
      }
    },
    {
      "cell_type": "code",
      "source": [
        "fpreds = cd.predict(X_t0, drift_type='feature')\n"
      ],
      "metadata": {
        "id": "uoRIc5-DbF86"
      },
      "execution_count": 19,
      "outputs": []
    },
    {
      "cell_type": "code",
      "source": [
        "for f in range(cd.n_features):\n",
        "    stat = 'Chi2' if f in list(categories_per_feature.keys()) else 'K-S'\n",
        "    fname = feature_names[f]\n",
        "    is_drift = fpreds['data']['is_drift'][f]\n",
        "    stat_val, p_val = fpreds['data']['distance'][f], fpreds['data']['p_val'][f]\n",
        "    print(f'{fname} -- Drift? {labels[is_drift]} -- {stat} {stat_val:.3f} -- p-value {p_val:.3f}')"
      ],
      "metadata": {
        "colab": {
          "base_uri": "https://localhost:8080/"
        },
        "id": "UkKw_h7UbK1e",
        "outputId": "f89350c2-3807-4277-96bb-65bd4618b16f"
      },
      "execution_count": 20,
      "outputs": [
        {
          "output_type": "stream",
          "name": "stdout",
          "text": [
            "Age -- Drift? No! -- K-S 0.012 -- p-value 0.508\n",
            "Workclass -- Drift? No! -- Chi2 8.487 -- p-value 0.387\n",
            "Education -- Drift? No! -- Chi2 4.753 -- p-value 0.576\n",
            "Marital Status -- Drift? No! -- Chi2 3.160 -- p-value 0.368\n",
            "Occupation -- Drift? No! -- Chi2 8.194 -- p-value 0.415\n",
            "Relationship -- Drift? No! -- Chi2 0.485 -- p-value 0.993\n",
            "Race -- Drift? No! -- Chi2 0.587 -- p-value 0.965\n",
            "Sex -- Drift? No! -- Chi2 0.217 -- p-value 0.641\n",
            "Capital Gain -- Drift? No! -- K-S 0.002 -- p-value 1.000\n",
            "Capital Loss -- Drift? No! -- K-S 0.002 -- p-value 1.000\n",
            "Hours per week -- Drift? No! -- K-S 0.012 -- p-value 0.508\n",
            "Country -- Drift? No! -- Chi2 9.991 -- p-value 0.441\n"
          ]
        }
      ]
    },
    {
      "cell_type": "markdown",
      "source": [
        "What about the second test set?"
      ],
      "metadata": {
        "id": "C1e6W9A4cP0q"
      }
    },
    {
      "cell_type": "code",
      "source": [
        "preds = cd.predict(X_t1)\n",
        "labels = ['No!', 'Yes!']\n",
        "print('Drift? {}'.format(labels[preds['data']['is_drift']]))"
      ],
      "metadata": {
        "colab": {
          "base_uri": "https://localhost:8080/"
        },
        "id": "6U9MAaepbQfW",
        "outputId": "d088f9c5-e556-4c2a-8b48-0421a8e36149"
      },
      "execution_count": 21,
      "outputs": [
        {
          "output_type": "stream",
          "name": "stdout",
          "text": [
            "Drift? No!\n"
          ]
        }
      ]
    },
    {
      "cell_type": "markdown",
      "source": [
        "We can again investigate the individual features:"
      ],
      "metadata": {
        "id": "REIgzwcCcOwt"
      }
    },
    {
      "cell_type": "code",
      "source": [
        "for f in range(cd.n_features):\n",
        "    stat = 'Chi2' if f in list(categories_per_feature.keys()) else 'K-S'\n",
        "    fname = feature_names[f]\n",
        "    is_drift = (preds['data']['p_val'][f] < preds['data']['threshold']).astype(int)\n",
        "    stat_val, p_val = preds['data']['distance'][f], preds['data']['p_val'][f]\n",
        "    print(f'{fname} -- Drift? {labels[is_drift]} -- {stat} {stat_val:.3f} -- p-value {p_val:.3f}')"
      ],
      "metadata": {
        "colab": {
          "base_uri": "https://localhost:8080/"
        },
        "id": "fHv-LciabawE",
        "outputId": "a0e6e514-4c16-4254-eb72-2caa799a4e1d"
      },
      "execution_count": 22,
      "outputs": [
        {
          "output_type": "stream",
          "name": "stdout",
          "text": [
            "Age -- Drift? No! -- K-S 0.007 -- p-value 0.966\n",
            "Workclass -- Drift? No! -- Chi2 5.800 -- p-value 0.670\n",
            "Education -- Drift? No! -- Chi2 5.413 -- p-value 0.492\n",
            "Marital Status -- Drift? No! -- Chi2 1.167 -- p-value 0.761\n",
            "Occupation -- Drift? No! -- Chi2 12.296 -- p-value 0.138\n",
            "Relationship -- Drift? No! -- Chi2 6.520 -- p-value 0.259\n",
            "Race -- Drift? No! -- Chi2 1.417 -- p-value 0.841\n",
            "Sex -- Drift? No! -- Chi2 0.008 -- p-value 0.928\n",
            "Capital Gain -- Drift? No! -- K-S 0.005 -- p-value 0.998\n",
            "Capital Loss -- Drift? No! -- K-S 0.003 -- p-value 1.000\n",
            "Hours per week -- Drift? No! -- K-S 0.004 -- p-value 1.000\n",
            "Country -- Drift? No! -- Chi2 11.256 -- p-value 0.338\n"
          ]
        }
      ]
    },
    {
      "cell_type": "markdown",
      "source": [
        "It seems like there is little divergence in the distributions of the features between the reference and test set. Let’s visualize this:"
      ],
      "metadata": {
        "id": "KQMfoU1mcINb"
      }
    },
    {
      "cell_type": "code",
      "source": [
        "def plot_categories(idx: int) -> None:\n",
        "    # reference data\n",
        "    x_ref_count = {f: [(X_ref[:, f] == v).sum() for v in vals]\n",
        "                   for f, vals in cd.x_ref_categories.items()}\n",
        "    fref_drift = {cat: x_ref_count[idx][i] for i, cat in enumerate(category_map[idx])}\n",
        "\n",
        "    # test set\n",
        "    cats = {f: list(np.unique(X_t1[:, f])) for f in categories_per_feature.keys()}\n",
        "    X_count = {f: [(X_t1[:, f] == v).sum() for v in vals] for f, vals in cats.items()}\n",
        "    fxt1_drift = {cat: X_count[idx][i] for i, cat in enumerate(category_map[idx])}\n",
        "\n",
        "    # plot bar chart\n",
        "    plot_labels = list(fxt1_drift.keys())\n",
        "    ind = np.arange(len(plot_labels))\n",
        "    width = .35\n",
        "    fig, ax = plt.subplots()\n",
        "    p1 = ax.bar(ind, list(fref_drift.values()), width)\n",
        "    p2 = ax.bar(ind + width, list(fxt1_drift.values()), width)\n",
        "    ax.set_title(f'Counts per category for {feature_names[idx]} feature')\n",
        "    ax.set_xticks(ind + width / 2)\n",
        "    ax.set_xticklabels(plot_labels)\n",
        "    ax.legend((p1[0], p2[0]), ('Reference', 'Test'), loc='upper right', ncol=2)\n",
        "    ax.set_ylabel('Counts')\n",
        "    ax.set_xlabel('Categories')\n",
        "    plt.xticks(list(np.arange(len(plot_labels))), plot_labels, rotation='vertical')\n",
        "    plt.show()"
      ],
      "metadata": {
        "id": "iEbaXEbVbdx4"
      },
      "execution_count": 23,
      "outputs": []
    },
    {
      "cell_type": "code",
      "source": [
        "plot_categories(2)\n",
        "plot_categories(3)\n",
        "plot_categories(4)"
      ],
      "metadata": {
        "colab": {
          "base_uri": "https://localhost:8080/",
          "height": 1000
        },
        "id": "qbMZmeN-bhen",
        "outputId": "e6ac5828-5139-4a04-ae3b-85244a202e72"
      },
      "execution_count": 24,
      "outputs": [
        {
          "output_type": "display_data",
          "data": {
            "text/plain": [
              "<Figure size 432x288 with 1 Axes>"
            ],
            "image/png": "[encoded data removed]"
          },
          "metadata": {
            "needs_background": "light"
          }
        },
        {
          "output_type": "display_data",
          "data": {
            "text/plain": [
              "<Figure size 432x288 with 1 Axes>"
            ],
            "image/png": "[encoded data removed]"
          },
          "metadata": {
            "needs_background": "light"
          }
        },
        {
          "output_type": "display_data",
          "data": {
            "text/plain": [
              "<Figure size 432x288 with 1 Axes>"
            ],
            "image/png": "[encoded data removed]"
          },
          "metadata": {
            "needs_background": "light"
          }
        }
      ]
    },
    {
      "cell_type": "markdown",
      "source": [
        "# **Categorical data drift**\n",
        "While the TabularDrift detector works fine with numerical or categorical features only, we can also directly use a categorical drift detector. In this case, we don’t need to specify the categorical feature columns. First we construct a categorical-only dataset and then use the ChiSquareDrift detector:"
      ],
      "metadata": {
        "id": "nXBqWDoib4gg"
      }
    },
    {
      "cell_type": "code",
      "source": [
        "\n",
        "cols = list(category_map.keys())\n",
        "cat_names = [feature_names[_] for _ in list(category_map.keys())]\n",
        "X_ref_cat, X_t0_cat = X_ref[:, cols], X_t0[:, cols]\n",
        "X_ref_cat.shape, X_t0_cat.shape"
      ],
      "metadata": {
        "colab": {
          "base_uri": "https://localhost:8080/"
        },
        "id": "fAYRNlA_bkUw",
        "outputId": "fd9387cf-68cc-48ca-bd21-5c58c75a128a"
      },
      "execution_count": 25,
      "outputs": [
        {
          "output_type": "execute_result",
          "data": {
            "text/plain": [
              "((10000, 8), (10000, 8))"
            ]
          },
          "metadata": {},
          "execution_count": 25
        }
      ]
    },
    {
      "cell_type": "code",
      "source": [
        "cd = ChiSquareDrift(X_ref_cat, p_val=.05)\n",
        "preds = cd.predict(X_t0_cat)\n",
        "print('Drift? {}'.format(labels[preds['data']['is_drift']]))"
      ],
      "metadata": {
        "colab": {
          "base_uri": "https://localhost:8080/"
        },
        "id": "1_qJLMdObtPM",
        "outputId": "c51a0455-7d7d-42de-e849-2e75e8ad6496"
      },
      "execution_count": 26,
      "outputs": [
        {
          "output_type": "stream",
          "name": "stdout",
          "text": [
            "Drift? No!\n"
          ]
        }
      ]
    },
    {
      "cell_type": "code",
      "source": [
        "print(f\"Threshold {preds['data']['threshold']}\")\n",
        "for f in range(cd.n_features):\n",
        "    fname = cat_names[f]\n",
        "    is_drift = (preds['data']['p_val'][f] < preds['data']['threshold']).astype(int)\n",
        "    stat_val, p_val = preds['data']['distance'][f], preds['data']['p_val'][f]\n",
        "    print(f'{fname} -- Drift? {labels[is_drift]} -- {stat} {stat_val:.3f} -- p-value {p_val:.3f}')"
      ],
      "metadata": {
        "colab": {
          "base_uri": "https://localhost:8080/"
        },
        "id": "9wzJxteZbv67",
        "outputId": "54b1d10f-f27a-4f23-d7c2-55aeb2e7c1fa"
      },
      "execution_count": 27,
      "outputs": [
        {
          "output_type": "stream",
          "name": "stdout",
          "text": [
            "Threshold 0.00625\n",
            "Workclass -- Drift? No! -- Chi2 8.487 -- p-value 0.387\n",
            "Education -- Drift? No! -- Chi2 4.753 -- p-value 0.576\n",
            "Marital Status -- Drift? No! -- Chi2 3.160 -- p-value 0.368\n",
            "Occupation -- Drift? No! -- Chi2 8.194 -- p-value 0.415\n",
            "Relationship -- Drift? No! -- Chi2 0.485 -- p-value 0.993\n",
            "Race -- Drift? No! -- Chi2 0.587 -- p-value 0.965\n",
            "Sex -- Drift? No! -- Chi2 0.217 -- p-value 0.641\n",
            "Country -- Drift? No! -- Chi2 9.991 -- p-value 0.441\n"
          ]
        }
      ]
    },
    {
      "cell_type": "code",
      "source": [],
      "metadata": {
        "id": "VaNJEvJ9bzWg"
      },
      "execution_count": null,
      "outputs": []
    }
  ]
}